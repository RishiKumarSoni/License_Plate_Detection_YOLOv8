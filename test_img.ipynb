{
 "cells": [
  {
   "cell_type": "code",
   "execution_count": 8,
   "id": "55afd86d",
   "metadata": {},
   "outputs": [
    {
     "name": "stderr",
     "output_type": "stream",
     "text": [
      "'yolo' is not recognized as an internal or external command,\n",
      "operable program or batch file.\n"
     ]
    }
   ],
   "source": [
    "# !yolo task=detect mode=predict model=runs/detect/train/weights/best.pt conf=0.5 source=r\"C:\\Users\\cdac\\Documents\\ANPR\\samples\\c2.jpeg\""
   ]
  },
  {
   "cell_type": "markdown",
   "id": "13d310f2",
   "metadata": {},
   "source": [
    "# Load Model"
   ]
  },
  {
   "cell_type": "code",
   "execution_count": 3,
   "id": "a1dc2bd2",
   "metadata": {},
   "outputs": [],
   "source": [
    "model = r\"..\\License_Plate_Detection\\runs\\detect\\train\\weights\\best.pt\""
   ]
  },
  {
   "cell_type": "markdown",
   "id": "223f33bd",
   "metadata": {},
   "source": [
    "# Detect and Image"
   ]
  },
  {
   "cell_type": "code",
   "execution_count": 4,
   "id": "f96635e5",
   "metadata": {},
   "outputs": [],
   "source": [
    "file_path = r\"..\\License_Plate_Detection\\sample\\c2.jpeg\""
   ]
  },
  {
   "cell_type": "code",
   "execution_count": null,
   "id": "129845e3",
   "metadata": {},
   "outputs": [],
   "source": []
  },
  {
   "cell_type": "code",
   "execution_count": null,
   "id": "b68b3e44",
   "metadata": {},
   "outputs": [],
   "source": []
  },
  {
   "cell_type": "code",
   "execution_count": null,
   "id": "c74370e2",
   "metadata": {},
   "outputs": [],
   "source": [
    "!yolo task=detect mode=predict model=model conf=0.5 source=file_path save_txt=true save_conf=true"
   ]
  }
 ],
 "metadata": {
  "kernelspec": {
   "display_name": "Python 3 (ipykernel)",
   "language": "python",
   "name": "python3"
  },
  "language_info": {
   "codemirror_mode": {
    "name": "ipython",
    "version": 3
   },
   "file_extension": ".py",
   "mimetype": "text/x-python",
   "name": "python",
   "nbconvert_exporter": "python",
   "pygments_lexer": "ipython3",
   "version": "3.11.5"
  }
 },
 "nbformat": 4,
 "nbformat_minor": 5
}
